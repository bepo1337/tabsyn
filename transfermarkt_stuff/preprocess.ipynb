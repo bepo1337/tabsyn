{
 "cells": [
  {
   "cell_type": "code",
   "id": "initial_id",
   "metadata": {
    "collapsed": true,
    "ExecuteTime": {
     "end_time": "2025-04-13T17:29:19.696828Z",
     "start_time": "2025-04-13T17:29:19.694484Z"
    }
   },
   "source": [
    "# add target variable\n",
    "# cast dates to days since xxx? and treat as numerical value?"
   ],
   "outputs": [],
   "execution_count": 23
  },
  {
   "metadata": {
    "ExecuteTime": {
     "end_time": "2025-04-13T17:29:20.101158Z",
     "start_time": "2025-04-13T17:29:19.705285Z"
    }
   },
   "cell_type": "code",
   "source": [
    "import pandas as pd\n",
    "df = pd.read_json(\"../data/transfermarkt_real/real_data_train.json\")"
   ],
   "id": "b3bfb3d96958c41",
   "outputs": [],
   "execution_count": 24
  },
  {
   "metadata": {
    "ExecuteTime": {
     "end_time": "2025-04-13T17:29:20.111055Z",
     "start_time": "2025-04-13T17:29:20.108485Z"
    }
   },
   "cell_type": "code",
   "source": [
    "# add target dummy\n",
    "df[\"target\"] = \"0\""
   ],
   "id": "9957921e0b64c02",
   "outputs": [],
   "execution_count": 25
  },
  {
   "metadata": {
    "ExecuteTime": {
     "end_time": "2025-04-13T17:29:20.147521Z",
     "start_time": "2025-04-13T17:29:20.118248Z"
    }
   },
   "cell_type": "code",
   "source": [
    "# make dates numerical as days since 01.0\n",
    "df['validity_start'] = pd.to_datetime(df['validity_start'])\n",
    "df['validity_end'] = pd.to_datetime(df['validity_end'])\n",
    "df['date_of_birth'] = pd.to_datetime(df['date_of_birth'])\n",
    "\n",
    "reference_date = pd.Timestamp('1970-01-01')\n",
    "\n",
    "# days since ref date\n",
    "df['validity_start'] = (df['validity_start'] - reference_date).dt.days\n",
    "df['validity_end'] = (df['validity_end'] - reference_date).dt.days\n",
    "df['date_of_birth'] = (df['date_of_birth'] - reference_date).dt.days"
   ],
   "id": "25fd28aab2f8ce7d",
   "outputs": [],
   "execution_count": 26
  },
  {
   "metadata": {
    "ExecuteTime": {
     "end_time": "2025-04-13T17:29:20.155222Z",
     "start_time": "2025-04-13T17:29:20.153732Z"
    }
   },
   "cell_type": "code",
   "source": "# TODO define in info file that validity_start is now numerical values",
   "id": "bf13858935ae9e6a",
   "outputs": [],
   "execution_count": 27
  },
  {
   "metadata": {
    "ExecuteTime": {
     "end_time": "2025-04-13T17:29:20.168682Z",
     "start_time": "2025-04-13T17:29:20.161703Z"
    }
   },
   "cell_type": "code",
   "source": "df.head()",
   "id": "7b2c74766aca5a4e",
   "outputs": [
    {
     "data": {
      "text/plain": [
       "   validity_start  validity_end injury_category market_value_category  age  \\\n",
       "0           14791         18443            None              VERY LOW   36   \n",
       "1           14791         14894            None             VERY HIGH   32   \n",
       "2           14895         14952         general             VERY HIGH   32   \n",
       "3           14953         14985            None             VERY HIGH   32   \n",
       "4           14986         15123            None             VERY HIGH   32   \n",
       "\n",
       "   coach_id               reason  player_id  club_id league_id  ...  \\\n",
       "0         1             transfer          6       -1      None  ...   \n",
       "1         2     regular interval         10       27        L1  ...   \n",
       "2         2               injury         10       27        L1  ...   \n",
       "3         2           injury end         10       27        L1  ...   \n",
       "4         2  market value update         10       27        L1  ...   \n",
       "\n",
       "   market_value league_played_matches  league_goals league_minutes_played  \\\n",
       "0           0.1                    71             0                  6315   \n",
       "1           7.5                   287           120                 21756   \n",
       "2           7.5                   293           120                 22186   \n",
       "3           7.5                   293           120                 22186   \n",
       "4           7.0                   294           120                 22209   \n",
       "\n",
       "  international_goals international_minutes_played  \\\n",
       "0                   0                          609   \n",
       "1                  23                         4988   \n",
       "2                  24                         5088   \n",
       "3                  24                         5088   \n",
       "4                  24                         5088   \n",
       "\n",
       "  international_played_matches international_competition missed_matches  \\\n",
       "0                            7                                        0   \n",
       "1                           70                        CL              0   \n",
       "2                           72                        CL             12   \n",
       "3                           72                        CL              0   \n",
       "4                           72                        CL              0   \n",
       "\n",
       "   target  \n",
       "0       0  \n",
       "1       0  \n",
       "2       0  \n",
       "3       0  \n",
       "4       0  \n",
       "\n",
       "[5 rows x 34 columns]"
      ],
      "text/html": [
       "<div>\n",
       "<style scoped>\n",
       "    .dataframe tbody tr th:only-of-type {\n",
       "        vertical-align: middle;\n",
       "    }\n",
       "\n",
       "    .dataframe tbody tr th {\n",
       "        vertical-align: top;\n",
       "    }\n",
       "\n",
       "    .dataframe thead th {\n",
       "        text-align: right;\n",
       "    }\n",
       "</style>\n",
       "<table border=\"1\" class=\"dataframe\">\n",
       "  <thead>\n",
       "    <tr style=\"text-align: right;\">\n",
       "      <th></th>\n",
       "      <th>validity_start</th>\n",
       "      <th>validity_end</th>\n",
       "      <th>injury_category</th>\n",
       "      <th>market_value_category</th>\n",
       "      <th>age</th>\n",
       "      <th>coach_id</th>\n",
       "      <th>reason</th>\n",
       "      <th>player_id</th>\n",
       "      <th>club_id</th>\n",
       "      <th>league_id</th>\n",
       "      <th>...</th>\n",
       "      <th>market_value</th>\n",
       "      <th>league_played_matches</th>\n",
       "      <th>league_goals</th>\n",
       "      <th>league_minutes_played</th>\n",
       "      <th>international_goals</th>\n",
       "      <th>international_minutes_played</th>\n",
       "      <th>international_played_matches</th>\n",
       "      <th>international_competition</th>\n",
       "      <th>missed_matches</th>\n",
       "      <th>target</th>\n",
       "    </tr>\n",
       "  </thead>\n",
       "  <tbody>\n",
       "    <tr>\n",
       "      <th>0</th>\n",
       "      <td>14791</td>\n",
       "      <td>18443</td>\n",
       "      <td>None</td>\n",
       "      <td>VERY LOW</td>\n",
       "      <td>36</td>\n",
       "      <td>1</td>\n",
       "      <td>transfer</td>\n",
       "      <td>6</td>\n",
       "      <td>-1</td>\n",
       "      <td>None</td>\n",
       "      <td>...</td>\n",
       "      <td>0.1</td>\n",
       "      <td>71</td>\n",
       "      <td>0</td>\n",
       "      <td>6315</td>\n",
       "      <td>0</td>\n",
       "      <td>609</td>\n",
       "      <td>7</td>\n",
       "      <td></td>\n",
       "      <td>0</td>\n",
       "      <td>0</td>\n",
       "    </tr>\n",
       "    <tr>\n",
       "      <th>1</th>\n",
       "      <td>14791</td>\n",
       "      <td>14894</td>\n",
       "      <td>None</td>\n",
       "      <td>VERY HIGH</td>\n",
       "      <td>32</td>\n",
       "      <td>2</td>\n",
       "      <td>regular interval</td>\n",
       "      <td>10</td>\n",
       "      <td>27</td>\n",
       "      <td>L1</td>\n",
       "      <td>...</td>\n",
       "      <td>7.5</td>\n",
       "      <td>287</td>\n",
       "      <td>120</td>\n",
       "      <td>21756</td>\n",
       "      <td>23</td>\n",
       "      <td>4988</td>\n",
       "      <td>70</td>\n",
       "      <td>CL</td>\n",
       "      <td>0</td>\n",
       "      <td>0</td>\n",
       "    </tr>\n",
       "    <tr>\n",
       "      <th>2</th>\n",
       "      <td>14895</td>\n",
       "      <td>14952</td>\n",
       "      <td>general</td>\n",
       "      <td>VERY HIGH</td>\n",
       "      <td>32</td>\n",
       "      <td>2</td>\n",
       "      <td>injury</td>\n",
       "      <td>10</td>\n",
       "      <td>27</td>\n",
       "      <td>L1</td>\n",
       "      <td>...</td>\n",
       "      <td>7.5</td>\n",
       "      <td>293</td>\n",
       "      <td>120</td>\n",
       "      <td>22186</td>\n",
       "      <td>24</td>\n",
       "      <td>5088</td>\n",
       "      <td>72</td>\n",
       "      <td>CL</td>\n",
       "      <td>12</td>\n",
       "      <td>0</td>\n",
       "    </tr>\n",
       "    <tr>\n",
       "      <th>3</th>\n",
       "      <td>14953</td>\n",
       "      <td>14985</td>\n",
       "      <td>None</td>\n",
       "      <td>VERY HIGH</td>\n",
       "      <td>32</td>\n",
       "      <td>2</td>\n",
       "      <td>injury end</td>\n",
       "      <td>10</td>\n",
       "      <td>27</td>\n",
       "      <td>L1</td>\n",
       "      <td>...</td>\n",
       "      <td>7.5</td>\n",
       "      <td>293</td>\n",
       "      <td>120</td>\n",
       "      <td>22186</td>\n",
       "      <td>24</td>\n",
       "      <td>5088</td>\n",
       "      <td>72</td>\n",
       "      <td>CL</td>\n",
       "      <td>0</td>\n",
       "      <td>0</td>\n",
       "    </tr>\n",
       "    <tr>\n",
       "      <th>4</th>\n",
       "      <td>14986</td>\n",
       "      <td>15123</td>\n",
       "      <td>None</td>\n",
       "      <td>VERY HIGH</td>\n",
       "      <td>32</td>\n",
       "      <td>2</td>\n",
       "      <td>market value update</td>\n",
       "      <td>10</td>\n",
       "      <td>27</td>\n",
       "      <td>L1</td>\n",
       "      <td>...</td>\n",
       "      <td>7.0</td>\n",
       "      <td>294</td>\n",
       "      <td>120</td>\n",
       "      <td>22209</td>\n",
       "      <td>24</td>\n",
       "      <td>5088</td>\n",
       "      <td>72</td>\n",
       "      <td>CL</td>\n",
       "      <td>0</td>\n",
       "      <td>0</td>\n",
       "    </tr>\n",
       "  </tbody>\n",
       "</table>\n",
       "<p>5 rows × 34 columns</p>\n",
       "</div>"
      ]
     },
     "execution_count": 28,
     "metadata": {},
     "output_type": "execute_result"
    }
   ],
   "execution_count": 28
  },
  {
   "metadata": {
    "ExecuteTime": {
     "end_time": "2025-04-13T17:47:21.792265Z",
     "start_time": "2025-04-13T17:47:21.788217Z"
    }
   },
   "cell_type": "code",
   "source": [
    "desired_order = [\n",
    "    \"player_id\", \"reason\", \"validity_start\", \"validity_end\", \"first_name\", \"last_name\", \"pseudonym\", \"height\",\n",
    "    \"date_of_birth\", \"age\", \"foot\", \"position\", \"citizenship\", \"injury\", \"injury_category\", \"market_value\",\n",
    "    \"market_value_category\", \"last_transfer_fee\", \"club\", \"club_id\", \"season_id\", \"league\", \"league_id\",\n",
    "    \"international_competition\", \"coach\", \"coach_id\", \"league_played_matches\", \"league_minutes_played\",\n",
    "    \"league_goals\", \"international_played_matches\", \"international_minutes_played\", \"international_goals\",\n",
    "    \"missed_matches\", \"target\"\n",
    "]\n"
   ],
   "id": "76d83e13cdd3a22d",
   "outputs": [],
   "execution_count": 37
  },
  {
   "metadata": {
    "ExecuteTime": {
     "end_time": "2025-04-13T17:31:38.574663Z",
     "start_time": "2025-04-13T17:31:38.425899Z"
    }
   },
   "cell_type": "code",
   "outputs": [],
   "execution_count": 29,
   "source": "df.to_json(\"../data/transfermarkt_real/real_processed.json\", orient=\"records\")",
   "id": "85bc1b2b19bf80c4"
  },
  {
   "metadata": {
    "ExecuteTime": {
     "end_time": "2025-04-13T17:47:24.416240Z",
     "start_time": "2025-04-13T17:47:24.406095Z"
    }
   },
   "cell_type": "code",
   "source": [
    "df_excerpt = df.head(1000)\n",
    "df_excerpt = df_excerpt[desired_order]\n",
    "df_excerpt.to_json(\"../data/transfermarkt_real/real_processed_excerpt.json\", orient=\"records\")\n",
    "# todo create dummy test file?\n"
   ],
   "id": "c3a7e4d44558c5ab",
   "outputs": [],
   "execution_count": 38
  }
 ],
 "metadata": {
  "kernelspec": {
   "display_name": "Python 3",
   "language": "python",
   "name": "python3"
  },
  "language_info": {
   "codemirror_mode": {
    "name": "ipython",
    "version": 2
   },
   "file_extension": ".py",
   "mimetype": "text/x-python",
   "name": "python",
   "nbconvert_exporter": "python",
   "pygments_lexer": "ipython2",
   "version": "2.7.6"
  }
 },
 "nbformat": 4,
 "nbformat_minor": 5
}
