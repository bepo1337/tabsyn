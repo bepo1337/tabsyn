{
 "cells": [
  {
   "cell_type": "code",
   "id": "initial_id",
   "metadata": {
    "collapsed": true,
    "ExecuteTime": {
     "end_time": "2025-04-18T11:35:52.837309Z",
     "start_time": "2025-04-18T11:35:52.176241Z"
    }
   },
   "source": [
    "import pandas as pd\n",
    "\n",
    "\n",
    "#load real and test\n",
    "df_train = pd.read_json(\"../data/tm_minimal/train_split.json\")\n",
    "df_test = pd.read_json(\"../data/tm_minimal/test_split.json\")"
   ],
   "outputs": [],
   "execution_count": 19
  },
  {
   "metadata": {},
   "cell_type": "markdown",
   "source": [
    "Fields where some test categories are not in the training data set\n",
    "- first_name\n",
    "- last_name\n",
    "- player_id\n",
    "- pseudonym\n",
    "- citizenship\n",
    "- injury"
   ],
   "id": "268ab9a6ccf6b290"
  },
  {
   "metadata": {
    "ExecuteTime": {
     "end_time": "2025-04-18T11:35:52.866295Z",
     "start_time": "2025-04-18T11:35:52.850648Z"
    }
   },
   "cell_type": "code",
   "source": [
    "# build up\n",
    "player_ids = df_train.player_id.tolist()\n",
    "first_names = df_train.first_name.tolist()\n",
    "last_names = df_train.last_name.tolist()\n",
    "pseudonyms = df_train.pseudonym.tolist()\n",
    "citzenships = df_train.citizenship.tolist()\n",
    "# go thru real and full player_id_to_names, also pseudonym\n",
    "\n",
    "injury_mapping = df_train.groupby('injury_category')['injury'].apply(lambda x: list(set(x))).to_dict()\n",
    "# go thru train and fill category to injury\n"
   ],
   "id": "6a59e8c394081bc2",
   "outputs": [],
   "execution_count": 20
  },
  {
   "metadata": {
    "ExecuteTime": {
     "end_time": "2025-04-18T11:35:52.870919Z",
     "start_time": "2025-04-18T11:35:52.869408Z"
    }
   },
   "cell_type": "code",
   "source": "",
   "id": "f51fa51170571b16",
   "outputs": [],
   "execution_count": null
  },
  {
   "metadata": {
    "ExecuteTime": {
     "end_time": "2025-04-18T11:35:52.887168Z",
     "start_time": "2025-04-18T11:35:52.885447Z"
    }
   },
   "cell_type": "code",
   "source": [
    "# get unknown injury\n",
    "# get unknown citizenships\n",
    "# need mapping from old id to new[name, lastname, id, pseudonym, citizenship]\n",
    "taken_ids = []\n",
    "player_id_to_names = {}"
   ],
   "id": "e7755b8c5dfedb9c",
   "outputs": [],
   "execution_count": 21
  },
  {
   "metadata": {
    "ExecuteTime": {
     "end_time": "2025-04-18T11:35:53.486661Z",
     "start_time": "2025-04-18T11:35:52.912559Z"
    }
   },
   "cell_type": "code",
   "source": [
    "import random\n",
    "from collections import defaultdict\n",
    "random.seed(42)\n",
    "\n",
    "# Create sets for fast lookup\n",
    "train_static_values = {\n",
    "    \"first_name\": set(first_names),\n",
    "    \"last_name\": set(last_names),\n",
    "    \"player_id\": set(player_ids),\n",
    "    \"pseudonym\": set(pseudonyms),\n",
    "    \"citizenship\": set(citzenships),\n",
    "    \"injury\": set(df_train.injury.tolist()),\n",
    "}\n",
    "\n",
    "# Value pools for replacements\n",
    "replacement_pool = {\n",
    "    \"first_name\": first_names,\n",
    "    \"last_name\": last_names,\n",
    "    \"player_id\": player_ids,\n",
    "    \"pseudonym\": pseudonyms,\n",
    "    \"citizenship\": citzenships,\n",
    "}\n",
    "\n",
    "# Cache to store replacements per test player\n",
    "player_static_replacements = {}\n",
    "\n",
    "# iterate over test playerrs\n",
    "for pid in df_test.player_id.unique():\n",
    "    player_rows = df_test[df_test.player_id == pid]\n",
    "    sample_row = player_rows.iloc[0]\n",
    "    replacement = {}\n",
    "\n",
    "    # check for each value if it is in the training set\n",
    "    for field in [\"player_id\", \"first_name\", \"last_name\", \"pseudonym\", \"citizenship\"]:\n",
    "        val = sample_row[field]\n",
    "        if val not in train_static_values[field]:\n",
    "            replacement[field] = random.choice(replacement_pool[field])\n",
    "        else: # is in the trainnig set: can keep old value\n",
    "            replacement[field] = val\n",
    "\n",
    "    player_static_replacements[pid] = replacement\n",
    "\n",
    "\n",
    "# change values in test set with possibly replaced field values\n",
    "def apply_replacements(row):\n",
    "    repl = player_static_replacements[row.player_id]\n",
    "    for field in [\"player_id\", \"first_name\", \"last_name\", \"pseudonym\", \"citizenship\"]:\n",
    "        row[field] = repl[field]\n",
    "    return row\n",
    "\n",
    "df_test = df_test.apply(apply_replacements, axis=1)\n",
    "\n",
    "\n",
    "\n",
    "def replace_injury(row):\n",
    "    if row[\"injury\"] not in train_static_values[\"injury\"]:\n",
    "        options = injury_mapping.get(row[\"injury_category\"], [])\n",
    "        if options:\n",
    "            return random.choice(options)\n",
    "    return row[\"injury\"]\n",
    "\n",
    "df_test[\"injury\"] = df_test.apply(replace_injury, axis=1)\n"
   ],
   "id": "f674baaaf5b7469d",
   "outputs": [],
   "execution_count": 22
  },
  {
   "metadata": {
    "ExecuteTime": {
     "end_time": "2025-04-18T11:57:57.158997Z",
     "start_time": "2025-04-18T11:57:57.125214Z"
    }
   },
   "cell_type": "code",
   "source": [
    "df_test.to_json(\"../data/tm_minimal/test_split_no_new_categories.json\", orient=\"records\")\n",
    "df_test.shape"
   ],
   "id": "7781ae486bdf019e",
   "outputs": [
    {
     "data": {
      "text/plain": [
       "(7630, 45)"
      ]
     },
     "execution_count": 24,
     "metadata": {},
     "output_type": "execute_result"
    }
   ],
   "execution_count": 24
  }
 ],
 "metadata": {
  "kernelspec": {
   "display_name": "Python 3",
   "language": "python",
   "name": "python3"
  },
  "language_info": {
   "codemirror_mode": {
    "name": "ipython",
    "version": 2
   },
   "file_extension": ".py",
   "mimetype": "text/x-python",
   "name": "python",
   "nbconvert_exporter": "python",
   "pygments_lexer": "ipython2",
   "version": "2.7.6"
  }
 },
 "nbformat": 4,
 "nbformat_minor": 5
}
