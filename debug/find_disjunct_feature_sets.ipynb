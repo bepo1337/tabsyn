{
 "cells": [
  {
   "cell_type": "code",
   "id": "initial_id",
   "metadata": {
    "collapsed": true,
    "ExecuteTime": {
     "end_time": "2025-04-18T11:47:01.611142Z",
     "start_time": "2025-04-18T11:47:00.955412Z"
    }
   },
   "source": [
    "import pandas as pd\n",
    "df = pd.read_json(\"../data/pp_train.json\")"
   ],
   "outputs": [],
   "execution_count": 14
  },
  {
   "metadata": {
    "ExecuteTime": {
     "end_time": "2025-04-18T11:47:01.669675Z",
     "start_time": "2025-04-18T11:47:01.614313Z"
    }
   },
   "cell_type": "code",
   "source": [
    "from sklearn.model_selection import train_test_split\n",
    "\n",
    "df_own_split = df.copy()\n",
    "df_own_split[\"target\"] = \"0\"\n",
    "\n",
    "# Assuming 'player_id' is present in the original df\n",
    "unique_ids = df[\"player_id\"].unique()\n",
    "train_ids, test_ids = train_test_split(unique_ids, test_size=0.15, random_state=1)\n",
    "\n",
    "train_df = df[df[\"player_id\"].isin(train_ids)].copy()\n",
    "train_df[\"target\"] = \"0\"\n",
    "test_df = df[df[\"player_id\"].isin(test_ids)].copy()\n",
    "test_df[\"target\"] = \"0\""
   ],
   "id": "30c426a157d9b22e",
   "outputs": [],
   "execution_count": 15
  },
  {
   "metadata": {
    "ExecuteTime": {
     "end_time": "2025-04-18T11:47:01.686084Z",
     "start_time": "2025-04-18T11:47:01.683231Z"
    }
   },
   "cell_type": "code",
   "source": [
    "train_ids_set = set(train_df[\"player_id\"].unique())\n",
    "test_ids_set = set(test_df[\"player_id\"].unique())\n",
    "\n",
    "only_in_train = train_ids_set - test_ids_set\n",
    "only_in_test = test_ids_set - train_ids_set\n",
    "\n",
    "print(\"Player IDs only in train:\", len(only_in_train))\n",
    "print(\"Player IDs only in test:\", len(only_in_test))"
   ],
   "id": "33de8d31c6daebf6",
   "outputs": [
    {
     "name": "stdout",
     "output_type": "stream",
     "text": [
      "Player IDs only in train: 2890\n",
      "Player IDs only in test: 511\n"
     ]
    }
   ],
   "execution_count": 16
  },
  {
   "metadata": {
    "ExecuteTime": {
     "end_time": "2025-04-18T11:47:01.797796Z",
     "start_time": "2025-04-18T11:47:01.701029Z"
    }
   },
   "cell_type": "code",
   "source": [
    "print(f\"{'Feature':<30} {'Only in Train':<15} {'Only in Test'}\")\n",
    "print(\"-\" * 60)\n",
    "for col in train_df.columns:\n",
    "    if col == \"target\":\n",
    "        continue\n",
    "    train_vals = set(train_df[col].dropna().unique())\n",
    "    test_vals = set(test_df[col].dropna().unique())\n",
    "    only_in_train = len(train_vals - test_vals)\n",
    "    only_in_test = len(test_vals - train_vals)\n",
    "    print(f\"{col:<30} {only_in_train:<15} {only_in_test}\")"
   ],
   "id": "266cf6bab2d06d3e",
   "outputs": [
    {
     "name": "stdout",
     "output_type": "stream",
     "text": [
      "Feature                        Only in Train   Only in Test\n",
      "------------------------------------------------------------\n",
      "injury_category                0               0\n",
      "market_value_category          0               0\n",
      "age                            5               0\n",
      "coach_id                       6               0\n",
      "player_id                      2890            511\n",
      "club_id                        1               0\n",
      "league_id                      0               0\n",
      "season_id                      0               0\n",
      "injury                         100             8\n",
      "last_transfer_fee              276             26\n",
      "first_name                     1196            170\n",
      "last_name                      2494            427\n",
      "pseudonym                      106             22\n",
      "position                       0               0\n",
      "foot                           0               0\n",
      "citizenship                    54              1\n",
      "height                         6               0\n",
      "club                           1               0\n",
      "league                         0               0\n",
      "coach                          6               0\n",
      "market_value                   61              6\n",
      "league_played_matches          158             10\n",
      "league_goals                   90              3\n",
      "league_minutes_played          8487            1167\n",
      "international_goals            16              5\n",
      "international_minutes_played   2464            371\n",
      "international_played_matches   25              9\n",
      "international_competition      0               0\n",
      "missed_matches                 7               1\n",
      "validity_start_year            0               0\n",
      "validity_start_month           0               0\n",
      "validity_start_day             0               0\n",
      "validity_end_year              0               0\n",
      "validity_end_month             0               0\n",
      "validity_end_day               0               0\n",
      "date_of_birth_year             4               0\n",
      "date_of_birth_month            0               0\n",
      "date_of_birth_day              0               0\n",
      "reason_regular_interval        0               0\n",
      "reason_new_coach               0               0\n",
      "reason_transfer                0               0\n",
      "reason_market_value_update     0               0\n",
      "reason_injury                  0               0\n",
      "reason_injury_end              0               0\n"
     ]
    }
   ],
   "execution_count": 17
  },
  {
   "metadata": {
    "ExecuteTime": {
     "end_time": "2025-04-18T11:48:39.668411Z",
     "start_time": "2025-04-18T11:48:39.452853Z"
    }
   },
   "cell_type": "code",
   "source": [
    "df_test_proc = pd.read_json(\"../data/tm_minimal/test_split_no_new_categories.json\")\n",
    "\n",
    "print(f\"{'Feature':<30} {'Only in Train':<15} {'Only in Test'}\")\n",
    "print(\"-\" * 60)\n",
    "for col in train_df.columns:\n",
    "    if col == \"target\":\n",
    "        continue\n",
    "    train_vals = set(train_df[col].dropna().unique())\n",
    "    test_vals = set(df_test_proc[col].dropna().unique())\n",
    "    only_in_train = len(train_vals - test_vals)\n",
    "    only_in_test = len(test_vals - train_vals)\n",
    "    print(f\"{col:<30} {only_in_train:<15} {only_in_test}\")"
   ],
   "id": "db70ed1238b873f2",
   "outputs": [
    {
     "name": "stdout",
     "output_type": "stream",
     "text": [
      "Feature                        Only in Train   Only in Test\n",
      "------------------------------------------------------------\n",
      "injury_category                0               0\n",
      "market_value_category          0               0\n",
      "age                            5               0\n",
      "coach_id                       6               0\n",
      "player_id                      2457            0\n",
      "club_id                        1               0\n",
      "league_id                      0               0\n",
      "season_id                      0               0\n",
      "injury                         95              0\n",
      "last_transfer_fee              276             26\n",
      "first_name                     1087            0\n",
      "last_name                      2142            0\n",
      "pseudonym                      106             0\n",
      "position                       0               0\n",
      "foot                           0               0\n",
      "citizenship                    54              0\n",
      "height                         6               0\n",
      "club                           1               0\n",
      "league                         0               0\n",
      "coach                          6               0\n",
      "market_value                   61              6\n",
      "league_played_matches          158             10\n",
      "league_goals                   90              3\n",
      "league_minutes_played          8487            1167\n",
      "international_goals            16              5\n",
      "international_minutes_played   2464            371\n",
      "international_played_matches   25              9\n",
      "international_competition      0               0\n",
      "missed_matches                 7               1\n",
      "validity_start_year            0               0\n",
      "validity_start_month           0               0\n",
      "validity_start_day             0               0\n",
      "validity_end_year              0               0\n",
      "validity_end_month             0               0\n",
      "validity_end_day               0               0\n",
      "date_of_birth_year             4               0\n",
      "date_of_birth_month            0               0\n",
      "date_of_birth_day              0               0\n",
      "reason_regular_interval        0               0\n",
      "reason_new_coach               0               0\n",
      "reason_transfer                0               0\n",
      "reason_market_value_update     0               0\n",
      "reason_injury                  0               0\n",
      "reason_injury_end              0               0\n"
     ]
    }
   ],
   "execution_count": 20
  }
 ],
 "metadata": {
  "kernelspec": {
   "display_name": "Python 3",
   "language": "python",
   "name": "python3"
  },
  "language_info": {
   "codemirror_mode": {
    "name": "ipython",
    "version": 2
   },
   "file_extension": ".py",
   "mimetype": "text/x-python",
   "name": "python",
   "nbconvert_exporter": "python",
   "pygments_lexer": "ipython2",
   "version": "2.7.6"
  }
 },
 "nbformat": 4,
 "nbformat_minor": 5
}
