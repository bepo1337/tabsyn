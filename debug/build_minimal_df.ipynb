{
 "cells": [
  {
   "metadata": {},
   "cell_type": "markdown",
   "source": [
    "- This worked when using only a train dataset and letting it split the data by itself.\n",
    "- But also when creating a test set by ourselves splitting by player id"
   ],
   "id": "90add25ad21ce882"
  },
  {
   "metadata": {
    "collapsed": true,
    "ExecuteTime": {
     "end_time": "2025-04-18T11:04:22.830344Z",
     "start_time": "2025-04-18T11:04:22.163429Z"
    }
   },
   "cell_type": "code",
   "source": [
    "\n",
    "import pandas as pd\n",
    "df = pd.read_json(\"../data/pp_train.json\")"
   ],
   "id": "initial_id",
   "outputs": [],
   "execution_count": 8
  },
  {
   "metadata": {
    "ExecuteTime": {
     "end_time": "2025-04-18T11:04:22.848018Z",
     "start_time": "2025-04-18T11:04:22.836047Z"
    }
   },
   "cell_type": "code",
   "source": [
    "min_cols = [\n",
    "    \"height\",\n",
    "    \"age\",\n",
    "    \"foot\",\n",
    "    \"league\",\n",
    "    \"international_competition\",\n",
    "    \"league_played_matches\",\n",
    "    \"coach\"]\n",
    "\n",
    "df_min = df[min_cols].copy()\n",
    "df_min[\"target\"] = \"0\"\n",
    "df_min.shape"
   ],
   "id": "b4b42cba5da18026",
   "outputs": [
    {
     "data": {
      "text/plain": [
       "(49693, 8)"
      ]
     },
     "execution_count": 9,
     "metadata": {},
     "output_type": "execute_result"
    }
   ],
   "execution_count": 9
  },
  {
   "metadata": {
    "ExecuteTime": {
     "end_time": "2025-04-18T11:04:22.885088Z",
     "start_time": "2025-04-18T11:04:22.869212Z"
    }
   },
   "cell_type": "code",
   "source": "df_min.isnull().sum()",
   "id": "8862306a4cfca49c",
   "outputs": [
    {
     "data": {
      "text/plain": [
       "height                       0\n",
       "age                          0\n",
       "foot                         0\n",
       "league                       0\n",
       "international_competition    0\n",
       "league_played_matches        0\n",
       "coach                        0\n",
       "target                       0\n",
       "dtype: int64"
      ]
     },
     "execution_count": 10,
     "metadata": {},
     "output_type": "execute_result"
    }
   ],
   "execution_count": 10
  },
  {
   "metadata": {
    "ExecuteTime": {
     "end_time": "2025-04-18T11:04:22.953001Z",
     "start_time": "2025-04-18T11:04:22.907897Z"
    }
   },
   "cell_type": "code",
   "source": "df_min.to_json(\"../data/tm_minimal/train.json\", orient=\"records\")",
   "id": "cf595e3157bfcc9f",
   "outputs": [],
   "execution_count": 11
  },
  {
   "metadata": {},
   "cell_type": "markdown",
   "source": "Own test split:",
   "id": "387014d6f2a29bb0"
  },
  {
   "metadata": {
    "ExecuteTime": {
     "end_time": "2025-04-18T11:04:23.170448Z",
     "start_time": "2025-04-18T11:04:22.974332Z"
    }
   },
   "cell_type": "code",
   "source": [
    "from sklearn.model_selection import train_test_split\n",
    "\n",
    "\n",
    "# df_own_split = df[min_cols].copy()\n",
    "# df_own_split[\"target\"] = \"0\"\n",
    "\n",
    "# Assuming 'player_id' is present in the original df\n",
    "unique_ids = df[\"player_id\"].unique()\n",
    "train_ids, test_ids = train_test_split(unique_ids, test_size=0.15, random_state=1)\n",
    "\n",
    "# train_df = df[df[\"player_id\"].isin(train_ids)][min_cols].copy()\n",
    "train_df = df[df[\"player_id\"].isin(train_ids)].copy()\n",
    "\n",
    "train_df[\"target\"] = \"0\"\n",
    "# test_df = df[df[\"player_id\"].isin(test_ids)][min_cols].copy()\n",
    "test_df = df[df[\"player_id\"].isin(test_ids)].copy()\n",
    "\n",
    "test_df[\"target\"] = \"0\"\n",
    "\n",
    "train_df.to_json(\"../data/tm_minimal/train_split.json\", orient=\"records\")\n",
    "test_df.to_json(\"../data/tm_minimal/test_split.json\", orient=\"records\")"
   ],
   "id": "41319ba0fc486465",
   "outputs": [],
   "execution_count": 12
  },
  {
   "metadata": {
    "ExecuteTime": {
     "end_time": "2025-04-18T11:04:23.177767Z",
     "start_time": "2025-04-18T11:04:23.175603Z"
    }
   },
   "cell_type": "code",
   "source": "train_df.shape",
   "id": "4e1ee3ae88030f0d",
   "outputs": [
    {
     "data": {
      "text/plain": [
       "(42063, 45)"
      ]
     },
     "execution_count": 13,
     "metadata": {},
     "output_type": "execute_result"
    }
   ],
   "execution_count": 13
  },
  {
   "metadata": {
    "ExecuteTime": {
     "end_time": "2025-04-18T11:04:23.192143Z",
     "start_time": "2025-04-18T11:04:23.189199Z"
    }
   },
   "cell_type": "code",
   "source": "test_df.shape",
   "id": "4b56a5a442824359",
   "outputs": [
    {
     "data": {
      "text/plain": [
       "(7630, 45)"
      ]
     },
     "execution_count": 14,
     "metadata": {},
     "output_type": "execute_result"
    }
   ],
   "execution_count": 14
  }
 ],
 "metadata": {
  "kernelspec": {
   "display_name": "Python 3",
   "language": "python",
   "name": "python3"
  },
  "language_info": {
   "codemirror_mode": {
    "name": "ipython",
    "version": 2
   },
   "file_extension": ".py",
   "mimetype": "text/x-python",
   "name": "python",
   "nbconvert_exporter": "python",
   "pygments_lexer": "ipython2",
   "version": "2.7.6"
  }
 },
 "nbformat": 4,
 "nbformat_minor": 5
}
