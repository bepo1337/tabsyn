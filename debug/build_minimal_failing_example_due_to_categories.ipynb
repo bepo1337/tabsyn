{
 "cells": [
  {
   "metadata": {
    "collapsed": true,
    "ExecuteTime": {
     "end_time": "2025-04-17T11:33:08.069305Z",
     "start_time": "2025-04-17T11:33:05.455344Z"
    }
   },
   "cell_type": "code",
   "outputs": [],
   "execution_count": 1,
   "source": [
    "\n",
    "import pandas as pd\n",
    "df = pd.read_json(\"../data/pp_train.json\")"
   ],
   "id": "initial_id"
  },
  {
   "metadata": {
    "ExecuteTime": {
     "end_time": "2025-04-17T12:26:47.993039Z",
     "start_time": "2025-04-17T12:26:47.980243Z"
    }
   },
   "cell_type": "code",
   "source": [
    "min_cols = [\n",
    "    \"height\",\n",
    "    \"age\",\n",
    "    \"foot\",\n",
    "    \"league\",\n",
    "    \"international_competition\",\n",
    "    \"league_played_matches\",\n",
    "    \"player_id\"]"
   ],
   "id": "b4b42cba5da18026",
   "outputs": [
    {
     "data": {
      "text/plain": [
       "(49693, 8)"
      ]
     },
     "execution_count": 11,
     "metadata": {},
     "output_type": "execute_result"
    }
   ],
   "execution_count": 11
  },
  {
   "metadata": {},
   "cell_type": "markdown",
   "source": "Own test split:",
   "id": "387014d6f2a29bb0"
  },
  {
   "metadata": {
    "ExecuteTime": {
     "end_time": "2025-04-17T12:26:59.620047Z",
     "start_time": "2025-04-17T12:26:59.538368Z"
    }
   },
   "cell_type": "code",
   "source": [
    "from sklearn.model_selection import train_test_split\n",
    "\n",
    "\n",
    "df_own_split = df[min_cols].copy()\n",
    "df_own_split[\"target\"] = \"0\"\n",
    "\n",
    "# Assuming 'player_id' is present in the original df\n",
    "unique_ids = df[\"player_id\"].unique()\n",
    "train_ids, test_ids = train_test_split(unique_ids, test_size=0.2, random_state=42)\n",
    "\n",
    "train_df = df[df[\"player_id\"].isin(train_ids)][min_cols].copy()\n",
    "train_df[\"target\"] = \"0\"\n",
    "test_df = df[df[\"player_id\"].isin(test_ids)][min_cols].copy()\n",
    "test_df[\"target\"] = \"0\"\n",
    "\n",
    "train_df.to_json(\"../data/tm_minimal/train_split.json\", orient=\"records\")\n",
    "test_df.to_json(\"../data/tm_minimal/test_split.json\", orient=\"records\")"
   ],
   "id": "41319ba0fc486465",
   "outputs": [],
   "execution_count": 12
  },
  {
   "metadata": {},
   "cell_type": "markdown",
   "source": "now run the preprocessing and run the vae training. It will not fail due to an index out of range. This is because the player_ids are disjunct set for the training and test set",
   "id": "b1b16927e539c094"
  }
 ],
 "metadata": {
  "kernelspec": {
   "display_name": "Python 3",
   "language": "python",
   "name": "python3"
  },
  "language_info": {
   "codemirror_mode": {
    "name": "ipython",
    "version": 2
   },
   "file_extension": ".py",
   "mimetype": "text/x-python",
   "name": "python",
   "nbconvert_exporter": "python",
   "pygments_lexer": "ipython2",
   "version": "2.7.6"
  }
 },
 "nbformat": 4,
 "nbformat_minor": 5
}
