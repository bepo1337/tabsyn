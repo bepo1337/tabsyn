{
 "cells": [
  {
   "cell_type": "code",
   "id": "initial_id",
   "metadata": {
    "collapsed": true,
    "ExecuteTime": {
     "end_time": "2025-04-14T19:51:43.885202Z",
     "start_time": "2025-04-14T19:51:43.045247Z"
    }
   },
   "source": [
    "import pandas as pd\n",
    "import numpy as np\n",
    "\n",
    "df_train = pd.read_json(\"../data/transfermarkt_real/real_data_train.json\")\n",
    "df_test = pd.read_json(\"../data/transfermarkt_real/real_data_test.json\")"
   ],
   "outputs": [],
   "execution_count": 1
  },
  {
   "metadata": {
    "ExecuteTime": {
     "end_time": "2025-04-14T19:52:56.355280Z",
     "start_time": "2025-04-14T19:52:56.277583Z"
    }
   },
   "cell_type": "code",
   "source": [
    "for col in df_train.columns:\n",
    "    print(f\"real train {col}: {df_train[col].nunique()}\")\n",
    "    print(f\"real test {col}: {df_test[col].nunique()}\")"
   ],
   "id": "b52e84e2c1edcda9",
   "outputs": [
    {
     "name": "stdout",
     "output_type": "stream",
     "text": [
      "real train validity_start: 3283\n",
      "real test validity_start: 2320\n",
      "real train validity_end: 3272\n",
      "real test validity_end: 2285\n",
      "real train injury_category: 12\n",
      "real test injury_category: 12\n",
      "real train market_value_category: 5\n",
      "real test market_value_category: 5\n",
      "real train age: 29\n",
      "real test age: 25\n",
      "real train coach_id: 193\n",
      "real test coach_id: 190\n",
      "real train reason: 36\n",
      "real test reason: 26\n",
      "real train player_id: 3401\n",
      "real test player_id: 851\n",
      "real train club_id: 67\n",
      "real test club_id: 66\n",
      "real train league_id: 2\n",
      "real test league_id: 2\n",
      "real train season_id: 10\n",
      "real test season_id: 10\n",
      "real train injury: 268\n",
      "real test injury: 196\n",
      "real train last_transfer_fee: 424\n",
      "real test last_transfer_fee: 197\n",
      "real train first_name: 1576\n",
      "real test first_name: 550\n",
      "real train last_name: 2988\n",
      "real test last_name: 824\n",
      "real train pseudonym: 129\n",
      "real test pseudonym: 39\n",
      "real train position: 14\n",
      "real test position: 14\n",
      "real train foot: 4\n",
      "real test foot: 4\n",
      "real train citizenship: 128\n",
      "real test citizenship: 95\n",
      "real train height: 40\n",
      "real test height: 41\n",
      "real train date_of_birth: 2761\n",
      "real test date_of_birth: 795\n",
      "real train club: 66\n",
      "real test club: 65\n",
      "real train league: 2\n",
      "real test league: 2\n",
      "real train coach: 192\n",
      "real test coach: 189\n",
      "real train market_value: 181\n",
      "real test market_value: 145\n",
      "real train league_played_matches: 529\n",
      "real test league_played_matches: 389\n",
      "real train league_goals: 190\n",
      "real test league_goals: 114\n",
      "real train league_minutes_played: 11085\n",
      "real test league_minutes_played: 3890\n",
      "real train international_goals: 59\n",
      "real test international_goals: 40\n",
      "real train international_minutes_played: 3230\n",
      "real test international_minutes_played: 1025\n",
      "real train international_played_matches: 140\n",
      "real test international_played_matches: 105\n",
      "real train international_competition: 3\n",
      "real test international_competition: 3\n",
      "real train missed_matches: 36\n",
      "real test missed_matches: 28\n"
     ]
    }
   ],
   "execution_count": 3
  }
 ],
 "metadata": {
  "kernelspec": {
   "display_name": "Python 3",
   "language": "python",
   "name": "python3"
  },
  "language_info": {
   "codemirror_mode": {
    "name": "ipython",
    "version": 2
   },
   "file_extension": ".py",
   "mimetype": "text/x-python",
   "name": "python",
   "nbconvert_exporter": "python",
   "pygments_lexer": "ipython2",
   "version": "2.7.6"
  }
 },
 "nbformat": 4,
 "nbformat_minor": 5
}
